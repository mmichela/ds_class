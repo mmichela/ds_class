{
 "cells": [
  {
   "cell_type": "code",
   "execution_count": null,
   "metadata": {},
   "outputs": [],
   "source": [
    "import os\n",
    "import pandas as pd\n",
    "import numpy as np\n",
    "from src.Animals import *\n",
    "\n",
    "%load_ext autoreload\n",
    "%autoreload 2"
   ]
  },
  {
   "cell_type": "markdown",
   "metadata": {},
   "source": [
    "# 1. Basics"
   ]
  },
  {
   "cell_type": "markdown",
   "metadata": {},
   "source": [
    "A good in troduction to classes in python is given in the following link:"
   ]
  },
  {
   "cell_type": "markdown",
   "metadata": {},
   "source": [
    "https://www.datacamp.com/community/tutorials/python-oop-tutorial"
   ]
  },
  {
   "cell_type": "markdown",
   "metadata": {},
   "source": [
    "We follow this tutorial and extend it. We have imported the function from an external module called Animals. The name is due to the extentions we want to add. In the file the class it is completed. You can follow step by step the creation of the class using the markdown snippets as the one that just follows. The simplest dog class look like this:"
   ]
  },
  {
   "cell_type": "markdown",
   "metadata": {},
   "source": [
    "    class Dog:\n",
    "\n",
    "        def __init__(self):\n",
    "            pass"
   ]
  },
  {
   "cell_type": "code",
   "execution_count": null,
   "metadata": {},
   "outputs": [],
   "source": [
    "ozzy = Animals.Dog()"
   ]
  },
  {
   "cell_type": "code",
   "execution_count": null,
   "metadata": {},
   "outputs": [],
   "source": [
    "print(ozzy)"
   ]
  },
  {
   "cell_type": "markdown",
   "metadata": {},
   "source": [
    "We have just an initialization."
   ]
  },
  {
   "cell_type": "markdown",
   "metadata": {},
   "source": [
    "***"
   ]
  },
  {
   "cell_type": "markdown",
   "metadata": {},
   "source": [
    "The other easy thing we can do is to create some variable that can describe a dog (name and age):"
   ]
  },
  {
   "cell_type": "markdown",
   "metadata": {},
   "source": [
    "    class Dog:\n",
    "\n",
    "        def __init__(self, name, age):\n",
    "            self.name = name\n",
    "            self.age = age"
   ]
  },
  {
   "cell_type": "code",
   "execution_count": null,
   "metadata": {},
   "outputs": [],
   "source": [
    "ozzy = Animals.Dog(\"Ozzy\", 2)"
   ]
  },
  {
   "cell_type": "code",
   "execution_count": null,
   "metadata": {},
   "outputs": [],
   "source": [
    "print(ozzy.name)"
   ]
  },
  {
   "cell_type": "code",
   "execution_count": null,
   "metadata": {},
   "outputs": [],
   "source": [
    "print(ozzy.age)"
   ]
  },
  {
   "cell_type": "markdown",
   "metadata": {},
   "source": [
    "*** "
   ]
  },
  {
   "cell_type": "markdown",
   "metadata": {},
   "source": [
    "After this it is possible to add \"functions\" that in a pythonic way are called methods, when defined into a class. As an example we define a class that just prints \"bark bark!\":"
   ]
  },
  {
   "cell_type": "markdown",
   "metadata": {},
   "source": [
    "    class Dog:\n",
    "\n",
    "        def __init__(self, name, age):\n",
    "            self.name = name\n",
    "            self.age = age\n",
    "\n",
    "\n",
    "        def bark(self):\n",
    "            print(\"bark bark!\")"
   ]
  },
  {
   "cell_type": "code",
   "execution_count": null,
   "metadata": {},
   "outputs": [],
   "source": [
    "ozzy.bark()"
   ]
  },
  {
   "cell_type": "markdown",
   "metadata": {},
   "source": [
    "***"
   ]
  },
  {
   "cell_type": "markdown",
   "metadata": {},
   "source": [
    "Going a bit deeper we can create two more methods:\n",
    "\n",
    "    1) The first is doginfo() which prints few information calling back the two variables that we have set.\n",
    "    \n",
    "    2) The birthday() method which, if called, adds by one the age variable"
   ]
  },
  {
   "cell_type": "markdown",
   "metadata": {},
   "source": [
    "    class Dog:\n",
    "\n",
    "        def __init__(self, name, age):\n",
    "            self.name = name\n",
    "            self.age = age\n",
    "\n",
    "\n",
    "        def bark(self):\n",
    "            print(\"bark bark!\")\n",
    "\n",
    "        def doginfo(self):\n",
    "            print(self.name + \" is \" + str(self.age) + \\\n",
    "            \" year(s) old.\")\n",
    "\n",
    "        def birthday(self):\n",
    "            self.age +=1"
   ]
  },
  {
   "cell_type": "code",
   "execution_count": null,
   "metadata": {},
   "outputs": [],
   "source": [
    "ozzy.doginfo()"
   ]
  },
  {
   "cell_type": "code",
   "execution_count": null,
   "metadata": {},
   "outputs": [],
   "source": [
    "ozzy.birthday()"
   ]
  },
  {
   "cell_type": "code",
   "execution_count": null,
   "metadata": {},
   "outputs": [],
   "source": [
    "ozzy.doginfo()"
   ]
  },
  {
   "cell_type": "markdown",
   "metadata": {},
   "source": [
    "***"
   ]
  },
  {
   "cell_type": "markdown",
   "metadata": {},
   "source": [
    "Finally, we can create a method that associate a buddy to a dog instant. This method is setbuddy() that associate a dog to another and viceversa: "
   ]
  },
  {
   "cell_type": "markdown",
   "metadata": {},
   "source": [
    "    class Dog:\n",
    "\n",
    "        def __init__(self, name, age):\n",
    "            self.name = name\n",
    "            self.age = age\n",
    "\n",
    "\n",
    "        def bark(self):\n",
    "            print(\"bark bark!\")\n",
    "\n",
    "        def doginfo(self):\n",
    "            print(self.name + \" is \" + str(self.age) + \\\n",
    "            \" year(s) old.\")\n",
    "\n",
    "        def birthday(self):\n",
    "            self.age +=1\n",
    "\n",
    "        def setBuddy(self, buddy):\n",
    "            self.buddy = buddy\n",
    "            buddy.buddy = self"
   ]
  },
  {
   "cell_type": "code",
   "execution_count": null,
   "metadata": {},
   "outputs": [],
   "source": [
    "filou = Animals.Dog('Filou', 4)"
   ]
  },
  {
   "cell_type": "code",
   "execution_count": null,
   "metadata": {},
   "outputs": [],
   "source": [
    "ozzy.setBuddy(filou)"
   ]
  },
  {
   "cell_type": "code",
   "execution_count": null,
   "metadata": {},
   "outputs": [],
   "source": [
    "ozzy.buddy.name"
   ]
  },
  {
   "cell_type": "markdown",
   "metadata": {},
   "source": [
    "# 2. @property"
   ]
  },
  {
   "cell_type": "markdown",
   "metadata": {},
   "source": [
    "We can extend a bit this class, trying to exploit @property. Imagine we want to set a limit to the age of a dog, to not be able to go negative. We could do this by writing two different functions get_age and set_age. This however it is cumbersome and also it can be hard to modify code once implemented. The link below explains you better why this is the case."
   ]
  },
  {
   "cell_type": "markdown",
   "metadata": {},
   "source": [
    "https://www.programiz.com/python-programming/property"
   ]
  },
  {
   "cell_type": "markdown",
   "metadata": {},
   "source": [
    "For us it is important to just know that when we add the 'decorator' @property just before a function definition, this it will help to retrieve a variable and it will keep it distinct from the setting of the variable. Furthermore we can add a @age.setter decorator that it will function as setter, with specific logics:"
   ]
  },
  {
   "cell_type": "markdown",
   "metadata": {},
   "source": [
    "    class Dog:\n",
    "\n",
    "        def __init__(self, name, age):\n",
    "            self.name = name\n",
    "            self._age = age\n",
    "\n",
    "        def bark(self):\n",
    "            print(\"bark bark!\")\n",
    "\n",
    "        def doginfo(self):\n",
    "            print(self.name + \" is \" + str(self.age) + \\\n",
    "            \" year(s) old.\")\n",
    "\n",
    "        def birthday(self):\n",
    "            self.age +=1\n",
    "\n",
    "        def setBuddy(self, buddy):\n",
    "            self.buddy = buddy\n",
    "            buddy.buddy = self\n",
    "\n",
    "        @property\n",
    "        def age(self):\n",
    "            return self._age\n",
    "\n",
    "        @age.setter\n",
    "        def age(self, value):\n",
    "            if value < 0:\n",
    "                raise ValueError(\"Age cannot be negative\")\n",
    "            self._age = value\n"
   ]
  },
  {
   "cell_type": "code",
   "execution_count": null,
   "metadata": {},
   "outputs": [],
   "source": [
    "ozzy.age = -3"
   ]
  },
  {
   "cell_type": "code",
   "execution_count": null,
   "metadata": {},
   "outputs": [],
   "source": [
    "ozzy.age = 26"
   ]
  },
  {
   "cell_type": "code",
   "execution_count": null,
   "metadata": {},
   "outputs": [],
   "source": [
    "ozzy.age"
   ]
  },
  {
   "cell_type": "markdown",
   "metadata": {},
   "source": [
    "# 3. Inheritance"
   ]
  },
  {
   "cell_type": "markdown",
   "metadata": {},
   "source": [
    "What about extending the properties of Dog to take into consideration the fact that there are many varieties of dogs? Inheritance comes in help in these cases. It allows to create a class which is connected to another, taking all its variables and methods and extending it with new functionalities. \n",
    "For example, if we want to to have our dog to be a BullDog which is different from a RusselTerrier, we may want to create a new class called BullDog:"
   ]
  },
  {
   "cell_type": "markdown",
   "metadata": {},
   "source": [
    "    #A child class of Dog (inheriths from Dog class)\n",
    "    class Bulldog(Dog):\n",
    "\n",
    "        def run(self, speed):\n",
    "            return \"{} runs {}\".format(self.name, speed)"
   ]
  },
  {
   "cell_type": "markdown",
   "metadata": {},
   "source": [
    "    #Another child class of Dog (inheriths from Dog class)\n",
    "    class RusselTerrier(Dog):\n",
    "\n",
    "        def run(self, speed):\n",
    "            return \"{} runs {}\".format(self.name, speed)\n"
   ]
  },
  {
   "cell_type": "markdown",
   "metadata": {},
   "source": [
    "These two classes are connected to the class Dog, so for an instance of a BullDog we can still know its name and age, or we can get its infos, but now we have also a new function that allows us to print the speed of the BullDog or of the RusselTerrier."
   ]
  },
  {
   "cell_type": "code",
   "execution_count": null,
   "metadata": {},
   "outputs": [],
   "source": [
    "pipi = RusselTerrier(\"pipi\", 4)"
   ]
  },
  {
   "cell_type": "code",
   "execution_count": null,
   "metadata": {},
   "outputs": [],
   "source": [
    "pipi.age"
   ]
  },
  {
   "cell_type": "code",
   "execution_count": null,
   "metadata": {},
   "outputs": [],
   "source": [
    "pipi.doginfo()"
   ]
  },
  {
   "cell_type": "code",
   "execution_count": null,
   "metadata": {},
   "outputs": [],
   "source": [
    "pipi.run(\"fast\")"
   ]
  },
  {
   "cell_type": "markdown",
   "metadata": {},
   "source": [
    "With a few of writing we can also add specific attribute to the new class:"
   ]
  },
  {
   "cell_type": "markdown",
   "metadata": {},
   "source": [
    "        # A child class of Dog (inheriths from Dog class)\n",
    "    class BullDog(Dog):\n",
    "\n",
    "        def __init__(self, name, age, speed):\n",
    "            Dog.__init__(self, name, age)\n",
    "            self.speed = speed\n",
    "\n",
    "        def run(self):\n",
    "            return \"{} runs at {} mph\".format(self.name, self.speed)"
   ]
  },
  {
   "cell_type": "code",
   "execution_count": null,
   "metadata": {},
   "outputs": [],
   "source": [
    "ozzy = BullDog('Ozzy',4, 6)"
   ]
  },
  {
   "cell_type": "code",
   "execution_count": null,
   "metadata": {},
   "outputs": [],
   "source": [
    "ozzy.age"
   ]
  },
  {
   "cell_type": "code",
   "execution_count": null,
   "metadata": {},
   "outputs": [],
   "source": [
    "ozzy.speed"
   ]
  }
 ],
 "metadata": {
  "kernelspec": {
   "display_name": "Python [conda root]",
   "language": "python",
   "name": "conda-root-py"
  },
  "language_info": {
   "codemirror_mode": {
    "name": "ipython",
    "version": 3
   },
   "file_extension": ".py",
   "mimetype": "text/x-python",
   "name": "python",
   "nbconvert_exporter": "python",
   "pygments_lexer": "ipython3",
   "version": "3.6.4"
  }
 },
 "nbformat": 4,
 "nbformat_minor": 2
}
